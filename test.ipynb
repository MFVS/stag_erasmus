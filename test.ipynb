{
 "cells": [
  {
   "cell_type": "code",
   "execution_count": 3,
   "metadata": {},
   "outputs": [],
   "source": [
    "from app.utils import get_df\n",
    "\n",
    "url = \"https://ws.ujep.cz/ws/services/rest2/predmety/getPredmetyByFakulta\"\n",
    "params = {\n",
    "    \"fakulta\": \"PRF\",\n",
    "    \"lang\": \"en\",\n",
    "    \"outputFormat\": \"CSV\",\n",
    "    \"outputFormatEncoding\": \"utf-8\",\n",
    "    \"jenNabizeneECTSPrijezdy\": \"true\",\n",
    "    # \"rok\": \"2023\",\n",
    "}\n",
    "\n",
    "df_predmety = get_df(url, params)\n",
    "\n",
    "df_predmety"
   ]
  }
 ],
 "metadata": {
  "kernelspec": {
   "display_name": ".venv",
   "language": "python",
   "name": "python3"
  },
  "language_info": {
   "codemirror_mode": {
    "name": "ipython",
    "version": 3
   },
   "file_extension": ".py",
   "mimetype": "text/x-python",
   "name": "python",
   "nbconvert_exporter": "python",
   "pygments_lexer": "ipython3",
   "version": "3.10.12"
  }
 },
 "nbformat": 4,
 "nbformat_minor": 2
}
