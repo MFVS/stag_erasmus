{
 "cells": [
  {
   "cell_type": "code",
   "execution_count": 2,
   "metadata": {},
   "outputs": [],
   "source": [
    "from app.utils import get_df\n",
    "\n",
    "url = \"https://ws.ujep.cz/ws/services/rest2/predmety/getPredmetyByFakulta\"\n",
    "ticket = \"\"\n",
    "params = {\n",
    "    \"fakulta\": \"PRF\",\n",
    "    \"lang\": \"en\",\n",
    "    \"outputFormat\": \"CSV\",\n",
    "    \"outputFormatEncoding\": \"utf-8\",\n",
    "    \"jenNabizeneECTSPrijezdy\": \"true\",\n",
    "    # \"rok\": \"2023\",\n",
    "}\n",
    "\n",
    "df_predmety = get_df(url, params, ticket=ticket)\n",
    "\n",
    "df_predmety\n",
    "\n",
    "df_predmety.to_csv(\"df.csv\", index=False)"
   ]
  }
 ],
 "metadata": {
  "kernelspec": {
   "display_name": ".venv",
   "language": "python",
   "name": "python3"
  },
  "language_info": {
   "codemirror_mode": {
    "name": "ipython",
    "version": 3
   },
   "file_extension": ".py",
   "mimetype": "text/x-python",
   "name": "python",
   "nbconvert_exporter": "python",
   "pygments_lexer": "ipython3",
   "version": "3.10.12"
  }
 },
 "nbformat": 4,
 "nbformat_minor": 2
}
